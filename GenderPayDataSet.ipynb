{
 "cells": [
  {
   "cell_type": "code",
   "execution_count": 128,
   "id": "b39285c6",
   "metadata": {},
   "outputs": [],
   "source": [
    "# https://www2.census.gov/programs-surveys/cps/methodology/PublicUseDocumentation_final.pdf\n",
    "\n",
    "import pandas as pd\n",
    "import os\n",
    "from sklearn.model_selection import train_test_split\n",
    "from sklearn.linear_model import LogisticRegression"
   ]
  },
  {
   "cell_type": "code",
   "execution_count": 129,
   "id": "6b327f02",
   "metadata": {},
   "outputs": [
    {
     "name": "stdout",
     "output_type": "stream",
     "text": [
      "./input\\CurrentPopulationSurvey_shorted.zip\n",
      "./input\\PanelStudyIncomeDynamics.zip\n"
     ]
    }
   ],
   "source": [
    "import os\n",
    "for dirname, _, filenames in os.walk('./input'):\n",
    "    for filename in filenames:\n",
    "        print(os.path.join(dirname, filename))"
   ]
  },
  {
   "cell_type": "code",
   "execution_count": 130,
   "id": "b1284d70",
   "metadata": {},
   "outputs": [],
   "source": [
    "PSID_df = pd.read_csv(\"./input/PanelStudyIncomeDynamics.zip\", sep=\",\")\n",
    "CPS_df = pd.read_csv(\"./input/CurrentPopulationSurvey_shorted.zip\", sep=\",\")"
   ]
  },
  {
   "cell_type": "code",
   "execution_count": 131,
   "id": "fd63589a",
   "metadata": {},
   "outputs": [
    {
     "name": "stdout",
     "output_type": "stream",
     "text": [
      "<class 'pandas.core.frame.DataFrame'>\n",
      "RangeIndex: 33398 entries, 0 to 33397\n",
      "Columns: 274 entries, intnum68 to LEHS\n",
      "dtypes: float64(121), int64(152), object(1)\n",
      "memory usage: 69.8+ MB\n"
     ]
    }
   ],
   "source": [
    "PSID_df.info()"
   ]
  },
  {
   "cell_type": "code",
   "execution_count": 132,
   "id": "affc07df",
   "metadata": {},
   "outputs": [
    {
     "data": {
      "text/html": [
       "<div>\n",
       "<style scoped>\n",
       "    .dataframe tbody tr th:only-of-type {\n",
       "        vertical-align: middle;\n",
       "    }\n",
       "\n",
       "    .dataframe tbody tr th {\n",
       "        vertical-align: top;\n",
       "    }\n",
       "\n",
       "    .dataframe thead th {\n",
       "        text-align: right;\n",
       "    }\n",
       "</style>\n",
       "<table border=\"1\" class=\"dataframe\">\n",
       "  <thead>\n",
       "    <tr style=\"text-align: right;\">\n",
       "      <th></th>\n",
       "      <th>intnum68</th>\n",
       "      <th>pernum68</th>\n",
       "      <th>wave</th>\n",
       "      <th>sex</th>\n",
       "      <th>intnum</th>\n",
       "      <th>farminc</th>\n",
       "      <th>region</th>\n",
       "      <th>famwgt</th>\n",
       "      <th>relhead</th>\n",
       "      <th>age</th>\n",
       "      <th>...</th>\n",
       "      <th>foodcare</th>\n",
       "      <th>building</th>\n",
       "      <th>sales</th>\n",
       "      <th>officeadmin</th>\n",
       "      <th>farmer</th>\n",
       "      <th>constructextractinstall</th>\n",
       "      <th>production</th>\n",
       "      <th>transport</th>\n",
       "      <th>sumocc</th>\n",
       "      <th>LEHS</th>\n",
       "    </tr>\n",
       "  </thead>\n",
       "  <tbody>\n",
       "    <tr>\n",
       "      <th>count</th>\n",
       "      <td>33398.000000</td>\n",
       "      <td>33398.000000</td>\n",
       "      <td>33398.000000</td>\n",
       "      <td>33398.000000</td>\n",
       "      <td>33398.000000</td>\n",
       "      <td>33398.000000</td>\n",
       "      <td>33395.000000</td>\n",
       "      <td>33398.000000</td>\n",
       "      <td>33398.000000</td>\n",
       "      <td>33398.000000</td>\n",
       "      <td>...</td>\n",
       "      <td>33398.000000</td>\n",
       "      <td>33398.000000</td>\n",
       "      <td>33398.000000</td>\n",
       "      <td>33398.000000</td>\n",
       "      <td>33398.000000</td>\n",
       "      <td>33398.000000</td>\n",
       "      <td>33398.000000</td>\n",
       "      <td>33398.000000</td>\n",
       "      <td>33398.0</td>\n",
       "      <td>33398.000000</td>\n",
       "    </tr>\n",
       "    <tr>\n",
       "      <th>mean</th>\n",
       "      <td>2942.203964</td>\n",
       "      <td>75.144260</td>\n",
       "      <td>2000.293221</td>\n",
       "      <td>1.513863</td>\n",
       "      <td>3935.475058</td>\n",
       "      <td>104.879544</td>\n",
       "      <td>2.592155</td>\n",
       "      <td>18.593345</td>\n",
       "      <td>13.499132</td>\n",
       "      <td>40.467872</td>\n",
       "      <td>...</td>\n",
       "      <td>0.056620</td>\n",
       "      <td>0.034403</td>\n",
       "      <td>0.079616</td>\n",
       "      <td>0.163363</td>\n",
       "      <td>0.005659</td>\n",
       "      <td>0.080544</td>\n",
       "      <td>0.097880</td>\n",
       "      <td>0.071771</td>\n",
       "      <td>1.0</td>\n",
       "      <td>0.715103</td>\n",
       "    </tr>\n",
       "    <tr>\n",
       "      <th>std</th>\n",
       "      <td>2198.106202</td>\n",
       "      <td>81.071224</td>\n",
       "      <td>10.536950</td>\n",
       "      <td>0.499815</td>\n",
       "      <td>2267.144304</td>\n",
       "      <td>2662.001098</td>\n",
       "      <td>0.929496</td>\n",
       "      <td>14.428494</td>\n",
       "      <td>4.835112</td>\n",
       "      <td>10.401476</td>\n",
       "      <td>...</td>\n",
       "      <td>0.231119</td>\n",
       "      <td>0.182265</td>\n",
       "      <td>0.270701</td>\n",
       "      <td>0.369702</td>\n",
       "      <td>0.075014</td>\n",
       "      <td>0.272137</td>\n",
       "      <td>0.297157</td>\n",
       "      <td>0.258112</td>\n",
       "      <td>0.0</td>\n",
       "      <td>0.451372</td>\n",
       "    </tr>\n",
       "    <tr>\n",
       "      <th>min</th>\n",
       "      <td>4.000000</td>\n",
       "      <td>1.000000</td>\n",
       "      <td>1981.000000</td>\n",
       "      <td>1.000000</td>\n",
       "      <td>1.000000</td>\n",
       "      <td>-5000.000000</td>\n",
       "      <td>1.000000</td>\n",
       "      <td>0.000000</td>\n",
       "      <td>10.000000</td>\n",
       "      <td>25.000000</td>\n",
       "      <td>...</td>\n",
       "      <td>0.000000</td>\n",
       "      <td>0.000000</td>\n",
       "      <td>0.000000</td>\n",
       "      <td>0.000000</td>\n",
       "      <td>0.000000</td>\n",
       "      <td>0.000000</td>\n",
       "      <td>0.000000</td>\n",
       "      <td>0.000000</td>\n",
       "      <td>1.0</td>\n",
       "      <td>0.000000</td>\n",
       "    </tr>\n",
       "    <tr>\n",
       "      <th>25%</th>\n",
       "      <td>1152.000000</td>\n",
       "      <td>4.000000</td>\n",
       "      <td>1990.000000</td>\n",
       "      <td>1.000000</td>\n",
       "      <td>2034.000000</td>\n",
       "      <td>0.000000</td>\n",
       "      <td>2.000000</td>\n",
       "      <td>5.209500</td>\n",
       "      <td>10.000000</td>\n",
       "      <td>31.000000</td>\n",
       "      <td>...</td>\n",
       "      <td>0.000000</td>\n",
       "      <td>0.000000</td>\n",
       "      <td>0.000000</td>\n",
       "      <td>0.000000</td>\n",
       "      <td>0.000000</td>\n",
       "      <td>0.000000</td>\n",
       "      <td>0.000000</td>\n",
       "      <td>0.000000</td>\n",
       "      <td>1.0</td>\n",
       "      <td>0.000000</td>\n",
       "    </tr>\n",
       "    <tr>\n",
       "      <th>50%</th>\n",
       "      <td>2210.000000</td>\n",
       "      <td>30.000000</td>\n",
       "      <td>2007.000000</td>\n",
       "      <td>2.000000</td>\n",
       "      <td>3854.500000</td>\n",
       "      <td>0.000000</td>\n",
       "      <td>3.000000</td>\n",
       "      <td>17.184999</td>\n",
       "      <td>10.000000</td>\n",
       "      <td>39.000000</td>\n",
       "      <td>...</td>\n",
       "      <td>0.000000</td>\n",
       "      <td>0.000000</td>\n",
       "      <td>0.000000</td>\n",
       "      <td>0.000000</td>\n",
       "      <td>0.000000</td>\n",
       "      <td>0.000000</td>\n",
       "      <td>0.000000</td>\n",
       "      <td>0.000000</td>\n",
       "      <td>1.0</td>\n",
       "      <td>1.000000</td>\n",
       "    </tr>\n",
       "    <tr>\n",
       "      <th>75%</th>\n",
       "      <td>5464.000000</td>\n",
       "      <td>172.000000</td>\n",
       "      <td>2009.000000</td>\n",
       "      <td>2.000000</td>\n",
       "      <td>5732.750000</td>\n",
       "      <td>0.000000</td>\n",
       "      <td>3.000000</td>\n",
       "      <td>27.212249</td>\n",
       "      <td>20.000000</td>\n",
       "      <td>49.000000</td>\n",
       "      <td>...</td>\n",
       "      <td>0.000000</td>\n",
       "      <td>0.000000</td>\n",
       "      <td>0.000000</td>\n",
       "      <td>0.000000</td>\n",
       "      <td>0.000000</td>\n",
       "      <td>0.000000</td>\n",
       "      <td>0.000000</td>\n",
       "      <td>0.000000</td>\n",
       "      <td>1.0</td>\n",
       "      <td>1.000000</td>\n",
       "    </tr>\n",
       "    <tr>\n",
       "      <th>max</th>\n",
       "      <td>6872.000000</td>\n",
       "      <td>262.000000</td>\n",
       "      <td>2011.000000</td>\n",
       "      <td>2.000000</td>\n",
       "      <td>8940.000000</td>\n",
       "      <td>200000.000000</td>\n",
       "      <td>4.000000</td>\n",
       "      <td>167.679001</td>\n",
       "      <td>22.000000</td>\n",
       "      <td>64.000000</td>\n",
       "      <td>...</td>\n",
       "      <td>1.000000</td>\n",
       "      <td>1.000000</td>\n",
       "      <td>1.000000</td>\n",
       "      <td>1.000000</td>\n",
       "      <td>1.000000</td>\n",
       "      <td>1.000000</td>\n",
       "      <td>1.000000</td>\n",
       "      <td>1.000000</td>\n",
       "      <td>1.0</td>\n",
       "      <td>1.000000</td>\n",
       "    </tr>\n",
       "  </tbody>\n",
       "</table>\n",
       "<p>8 rows × 273 columns</p>\n",
       "</div>"
      ],
      "text/plain": [
       "           intnum68      pernum68          wave           sex        intnum  \\\n",
       "count  33398.000000  33398.000000  33398.000000  33398.000000  33398.000000   \n",
       "mean    2942.203964     75.144260   2000.293221      1.513863   3935.475058   \n",
       "std     2198.106202     81.071224     10.536950      0.499815   2267.144304   \n",
       "min        4.000000      1.000000   1981.000000      1.000000      1.000000   \n",
       "25%     1152.000000      4.000000   1990.000000      1.000000   2034.000000   \n",
       "50%     2210.000000     30.000000   2007.000000      2.000000   3854.500000   \n",
       "75%     5464.000000    172.000000   2009.000000      2.000000   5732.750000   \n",
       "max     6872.000000    262.000000   2011.000000      2.000000   8940.000000   \n",
       "\n",
       "             farminc        region        famwgt       relhead           age  \\\n",
       "count   33398.000000  33395.000000  33398.000000  33398.000000  33398.000000   \n",
       "mean      104.879544      2.592155     18.593345     13.499132     40.467872   \n",
       "std      2662.001098      0.929496     14.428494      4.835112     10.401476   \n",
       "min     -5000.000000      1.000000      0.000000     10.000000     25.000000   \n",
       "25%         0.000000      2.000000      5.209500     10.000000     31.000000   \n",
       "50%         0.000000      3.000000     17.184999     10.000000     39.000000   \n",
       "75%         0.000000      3.000000     27.212249     20.000000     49.000000   \n",
       "max    200000.000000      4.000000    167.679001     22.000000     64.000000   \n",
       "\n",
       "       ...      foodcare      building         sales   officeadmin  \\\n",
       "count  ...  33398.000000  33398.000000  33398.000000  33398.000000   \n",
       "mean   ...      0.056620      0.034403      0.079616      0.163363   \n",
       "std    ...      0.231119      0.182265      0.270701      0.369702   \n",
       "min    ...      0.000000      0.000000      0.000000      0.000000   \n",
       "25%    ...      0.000000      0.000000      0.000000      0.000000   \n",
       "50%    ...      0.000000      0.000000      0.000000      0.000000   \n",
       "75%    ...      0.000000      0.000000      0.000000      0.000000   \n",
       "max    ...      1.000000      1.000000      1.000000      1.000000   \n",
       "\n",
       "             farmer  constructextractinstall    production     transport  \\\n",
       "count  33398.000000             33398.000000  33398.000000  33398.000000   \n",
       "mean       0.005659                 0.080544      0.097880      0.071771   \n",
       "std        0.075014                 0.272137      0.297157      0.258112   \n",
       "min        0.000000                 0.000000      0.000000      0.000000   \n",
       "25%        0.000000                 0.000000      0.000000      0.000000   \n",
       "50%        0.000000                 0.000000      0.000000      0.000000   \n",
       "75%        0.000000                 0.000000      0.000000      0.000000   \n",
       "max        1.000000                 1.000000      1.000000      1.000000   \n",
       "\n",
       "        sumocc          LEHS  \n",
       "count  33398.0  33398.000000  \n",
       "mean       1.0      0.715103  \n",
       "std        0.0      0.451372  \n",
       "min        1.0      0.000000  \n",
       "25%        1.0      0.000000  \n",
       "50%        1.0      1.000000  \n",
       "75%        1.0      1.000000  \n",
       "max        1.0      1.000000  \n",
       "\n",
       "[8 rows x 273 columns]"
      ]
     },
     "execution_count": 132,
     "metadata": {},
     "output_type": "execute_result"
    }
   ],
   "source": [
    "PSID_df.describe()"
   ]
  },
  {
   "cell_type": "code",
   "execution_count": 133,
   "id": "306a42b9",
   "metadata": {},
   "outputs": [
    {
     "name": "stdout",
     "output_type": "stream",
     "text": [
      "<class 'pandas.core.frame.DataFrame'>\n",
      "RangeIndex: 256875 entries, 0 to 256874\n",
      "Columns: 235 entries, Unnamed: 0 to LEHS\n",
      "dtypes: float64(86), int64(147), object(2)\n",
      "memory usage: 460.6+ MB\n"
     ]
    }
   ],
   "source": [
    "CPS_df.info()"
   ]
  },
  {
   "cell_type": "code",
   "execution_count": 134,
   "id": "602ebe12",
   "metadata": {},
   "outputs": [
    {
     "data": {
      "text/html": [
       "<div>\n",
       "<style scoped>\n",
       "    .dataframe tbody tr th:only-of-type {\n",
       "        vertical-align: middle;\n",
       "    }\n",
       "\n",
       "    .dataframe tbody tr th {\n",
       "        vertical-align: top;\n",
       "    }\n",
       "\n",
       "    .dataframe thead th {\n",
       "        text-align: right;\n",
       "    }\n",
       "</style>\n",
       "<table border=\"1\" class=\"dataframe\">\n",
       "  <thead>\n",
       "    <tr style=\"text-align: right;\">\n",
       "      <th></th>\n",
       "      <th>Unnamed: 0</th>\n",
       "      <th>year</th>\n",
       "      <th>serial</th>\n",
       "      <th>numprec</th>\n",
       "      <th>hwtsupp</th>\n",
       "      <th>gq</th>\n",
       "      <th>region</th>\n",
       "      <th>statefip</th>\n",
       "      <th>metro</th>\n",
       "      <th>metarea</th>\n",
       "      <th>...</th>\n",
       "      <th>foodcare</th>\n",
       "      <th>building</th>\n",
       "      <th>sales</th>\n",
       "      <th>officeadmin</th>\n",
       "      <th>farmer</th>\n",
       "      <th>constructextractinstall</th>\n",
       "      <th>production</th>\n",
       "      <th>transport</th>\n",
       "      <th>sumadj_occ</th>\n",
       "      <th>LEHS</th>\n",
       "    </tr>\n",
       "  </thead>\n",
       "  <tbody>\n",
       "    <tr>\n",
       "      <th>count</th>\n",
       "      <td>256875.000000</td>\n",
       "      <td>256875.000000</td>\n",
       "      <td>256875.000000</td>\n",
       "      <td>256875.000000</td>\n",
       "      <td>256875.000000</td>\n",
       "      <td>256875.0</td>\n",
       "      <td>256875.000000</td>\n",
       "      <td>256875.000000</td>\n",
       "      <td>254902.000000</td>\n",
       "      <td>193086.000000</td>\n",
       "      <td>...</td>\n",
       "      <td>256875.000000</td>\n",
       "      <td>256875.000000</td>\n",
       "      <td>256875.000000</td>\n",
       "      <td>256875.000000</td>\n",
       "      <td>256875.000000</td>\n",
       "      <td>256875.000000</td>\n",
       "      <td>256875.000000</td>\n",
       "      <td>256875.000000</td>\n",
       "      <td>256875.0</td>\n",
       "      <td>256875.000000</td>\n",
       "    </tr>\n",
       "    <tr>\n",
       "      <th>mean</th>\n",
       "      <td>174013.958170</td>\n",
       "      <td>2008.371290</td>\n",
       "      <td>46751.728241</td>\n",
       "      <td>3.227239</td>\n",
       "      <td>1539.265660</td>\n",
       "      <td>1.0</td>\n",
       "      <td>27.919093</td>\n",
       "      <td>27.996633</td>\n",
       "      <td>2.555335</td>\n",
       "      <td>4570.208260</td>\n",
       "      <td>...</td>\n",
       "      <td>0.064265</td>\n",
       "      <td>0.035582</td>\n",
       "      <td>0.088249</td>\n",
       "      <td>0.139940</td>\n",
       "      <td>0.006493</td>\n",
       "      <td>0.087595</td>\n",
       "      <td>0.071323</td>\n",
       "      <td>0.059893</td>\n",
       "      <td>1.0</td>\n",
       "      <td>0.649421</td>\n",
       "    </tr>\n",
       "    <tr>\n",
       "      <th>std</th>\n",
       "      <td>99407.023637</td>\n",
       "      <td>4.374141</td>\n",
       "      <td>27671.011521</td>\n",
       "      <td>1.498643</td>\n",
       "      <td>946.618938</td>\n",
       "      <td>0.0</td>\n",
       "      <td>10.774314</td>\n",
       "      <td>15.963955</td>\n",
       "      <td>0.987064</td>\n",
       "      <td>2530.953157</td>\n",
       "      <td>...</td>\n",
       "      <td>0.245224</td>\n",
       "      <td>0.185245</td>\n",
       "      <td>0.283657</td>\n",
       "      <td>0.346925</td>\n",
       "      <td>0.080320</td>\n",
       "      <td>0.282706</td>\n",
       "      <td>0.257363</td>\n",
       "      <td>0.237289</td>\n",
       "      <td>0.0</td>\n",
       "      <td>0.477152</td>\n",
       "    </tr>\n",
       "    <tr>\n",
       "      <th>min</th>\n",
       "      <td>1.000000</td>\n",
       "      <td>1999.000000</td>\n",
       "      <td>2.000000</td>\n",
       "      <td>1.000000</td>\n",
       "      <td>0.000000</td>\n",
       "      <td>1.0</td>\n",
       "      <td>11.000000</td>\n",
       "      <td>1.000000</td>\n",
       "      <td>1.000000</td>\n",
       "      <td>80.000000</td>\n",
       "      <td>...</td>\n",
       "      <td>0.000000</td>\n",
       "      <td>0.000000</td>\n",
       "      <td>0.000000</td>\n",
       "      <td>0.000000</td>\n",
       "      <td>0.000000</td>\n",
       "      <td>0.000000</td>\n",
       "      <td>0.000000</td>\n",
       "      <td>0.000000</td>\n",
       "      <td>1.0</td>\n",
       "      <td>0.000000</td>\n",
       "    </tr>\n",
       "    <tr>\n",
       "      <th>25%</th>\n",
       "      <td>88440.000000</td>\n",
       "      <td>2007.000000</td>\n",
       "      <td>23073.000000</td>\n",
       "      <td>2.000000</td>\n",
       "      <td>798.444977</td>\n",
       "      <td>1.0</td>\n",
       "      <td>21.000000</td>\n",
       "      <td>13.000000</td>\n",
       "      <td>2.000000</td>\n",
       "      <td>2083.000000</td>\n",
       "      <td>...</td>\n",
       "      <td>0.000000</td>\n",
       "      <td>0.000000</td>\n",
       "      <td>0.000000</td>\n",
       "      <td>0.000000</td>\n",
       "      <td>0.000000</td>\n",
       "      <td>0.000000</td>\n",
       "      <td>0.000000</td>\n",
       "      <td>0.000000</td>\n",
       "      <td>1.0</td>\n",
       "      <td>0.000000</td>\n",
       "    </tr>\n",
       "    <tr>\n",
       "      <th>50%</th>\n",
       "      <td>174964.000000</td>\n",
       "      <td>2009.000000</td>\n",
       "      <td>45109.000000</td>\n",
       "      <td>3.000000</td>\n",
       "      <td>1474.709961</td>\n",
       "      <td>1.0</td>\n",
       "      <td>31.000000</td>\n",
       "      <td>27.000000</td>\n",
       "      <td>3.000000</td>\n",
       "      <td>4881.000000</td>\n",
       "      <td>...</td>\n",
       "      <td>0.000000</td>\n",
       "      <td>0.000000</td>\n",
       "      <td>0.000000</td>\n",
       "      <td>0.000000</td>\n",
       "      <td>0.000000</td>\n",
       "      <td>0.000000</td>\n",
       "      <td>0.000000</td>\n",
       "      <td>0.000000</td>\n",
       "      <td>1.0</td>\n",
       "      <td>1.000000</td>\n",
       "    </tr>\n",
       "    <tr>\n",
       "      <th>75%</th>\n",
       "      <td>260063.000000</td>\n",
       "      <td>2011.000000</td>\n",
       "      <td>70213.000000</td>\n",
       "      <td>4.000000</td>\n",
       "      <td>2005.339966</td>\n",
       "      <td>1.0</td>\n",
       "      <td>41.000000</td>\n",
       "      <td>42.000000</td>\n",
       "      <td>3.000000</td>\n",
       "      <td>6483.000000</td>\n",
       "      <td>...</td>\n",
       "      <td>0.000000</td>\n",
       "      <td>0.000000</td>\n",
       "      <td>0.000000</td>\n",
       "      <td>0.000000</td>\n",
       "      <td>0.000000</td>\n",
       "      <td>0.000000</td>\n",
       "      <td>0.000000</td>\n",
       "      <td>0.000000</td>\n",
       "      <td>1.0</td>\n",
       "      <td>1.000000</td>\n",
       "    </tr>\n",
       "    <tr>\n",
       "      <th>max</th>\n",
       "      <td>344286.000000</td>\n",
       "      <td>2013.000000</td>\n",
       "      <td>98095.000000</td>\n",
       "      <td>16.000000</td>\n",
       "      <td>13310.929688</td>\n",
       "      <td>1.0</td>\n",
       "      <td>42.000000</td>\n",
       "      <td>56.000000</td>\n",
       "      <td>4.000000</td>\n",
       "      <td>9360.000000</td>\n",
       "      <td>...</td>\n",
       "      <td>1.000000</td>\n",
       "      <td>1.000000</td>\n",
       "      <td>1.000000</td>\n",
       "      <td>1.000000</td>\n",
       "      <td>1.000000</td>\n",
       "      <td>1.000000</td>\n",
       "      <td>1.000000</td>\n",
       "      <td>1.000000</td>\n",
       "      <td>1.0</td>\n",
       "      <td>1.000000</td>\n",
       "    </tr>\n",
       "  </tbody>\n",
       "</table>\n",
       "<p>8 rows × 233 columns</p>\n",
       "</div>"
      ],
      "text/plain": [
       "          Unnamed: 0           year         serial        numprec  \\\n",
       "count  256875.000000  256875.000000  256875.000000  256875.000000   \n",
       "mean   174013.958170    2008.371290   46751.728241       3.227239   \n",
       "std     99407.023637       4.374141   27671.011521       1.498643   \n",
       "min         1.000000    1999.000000       2.000000       1.000000   \n",
       "25%     88440.000000    2007.000000   23073.000000       2.000000   \n",
       "50%    174964.000000    2009.000000   45109.000000       3.000000   \n",
       "75%    260063.000000    2011.000000   70213.000000       4.000000   \n",
       "max    344286.000000    2013.000000   98095.000000      16.000000   \n",
       "\n",
       "             hwtsupp        gq         region       statefip          metro  \\\n",
       "count  256875.000000  256875.0  256875.000000  256875.000000  254902.000000   \n",
       "mean     1539.265660       1.0      27.919093      27.996633       2.555335   \n",
       "std       946.618938       0.0      10.774314      15.963955       0.987064   \n",
       "min         0.000000       1.0      11.000000       1.000000       1.000000   \n",
       "25%       798.444977       1.0      21.000000      13.000000       2.000000   \n",
       "50%      1474.709961       1.0      31.000000      27.000000       3.000000   \n",
       "75%      2005.339966       1.0      41.000000      42.000000       3.000000   \n",
       "max     13310.929688       1.0      42.000000      56.000000       4.000000   \n",
       "\n",
       "             metarea  ...       foodcare       building          sales  \\\n",
       "count  193086.000000  ...  256875.000000  256875.000000  256875.000000   \n",
       "mean     4570.208260  ...       0.064265       0.035582       0.088249   \n",
       "std      2530.953157  ...       0.245224       0.185245       0.283657   \n",
       "min        80.000000  ...       0.000000       0.000000       0.000000   \n",
       "25%      2083.000000  ...       0.000000       0.000000       0.000000   \n",
       "50%      4881.000000  ...       0.000000       0.000000       0.000000   \n",
       "75%      6483.000000  ...       0.000000       0.000000       0.000000   \n",
       "max      9360.000000  ...       1.000000       1.000000       1.000000   \n",
       "\n",
       "         officeadmin         farmer  constructextractinstall     production  \\\n",
       "count  256875.000000  256875.000000            256875.000000  256875.000000   \n",
       "mean        0.139940       0.006493                 0.087595       0.071323   \n",
       "std         0.346925       0.080320                 0.282706       0.257363   \n",
       "min         0.000000       0.000000                 0.000000       0.000000   \n",
       "25%         0.000000       0.000000                 0.000000       0.000000   \n",
       "50%         0.000000       0.000000                 0.000000       0.000000   \n",
       "75%         0.000000       0.000000                 0.000000       0.000000   \n",
       "max         1.000000       1.000000                 1.000000       1.000000   \n",
       "\n",
       "           transport  sumadj_occ           LEHS  \n",
       "count  256875.000000    256875.0  256875.000000  \n",
       "mean        0.059893         1.0       0.649421  \n",
       "std         0.237289         0.0       0.477152  \n",
       "min         0.000000         1.0       0.000000  \n",
       "25%         0.000000         1.0       0.000000  \n",
       "50%         0.000000         1.0       1.000000  \n",
       "75%         0.000000         1.0       1.000000  \n",
       "max         1.000000         1.0       1.000000  \n",
       "\n",
       "[8 rows x 233 columns]"
      ]
     },
     "execution_count": 134,
     "metadata": {},
     "output_type": "execute_result"
    }
   ],
   "source": [
    "CPS_df.describe()"
   ]
  },
  {
   "cell_type": "code",
   "execution_count": 135,
   "id": "2da3e44b",
   "metadata": {},
   "outputs": [
    {
     "data": {
      "text/plain": [
       "2007    56467\n",
       "2009    55617\n",
       "2011    53857\n",
       "2013    53790\n",
       "1999    37144\n",
       "Name: year, dtype: int64"
      ]
     },
     "execution_count": 135,
     "metadata": {},
     "output_type": "execute_result"
    }
   ],
   "source": [
    "CPS_df.year.value_counts()"
   ]
  },
  {
   "cell_type": "code",
   "execution_count": 136,
   "id": "72e6b2e7",
   "metadata": {},
   "outputs": [
    {
     "data": {
      "text/plain": [
       "235"
      ]
     },
     "execution_count": 136,
     "metadata": {},
     "output_type": "execute_result"
    }
   ],
   "source": [
    "l = CPS_df.columns\n",
    "len(l)"
   ]
  },
  {
   "cell_type": "code",
   "execution_count": 137,
   "id": "594c660b",
   "metadata": {},
   "outputs": [
    {
     "data": {
      "text/plain": [
       "pandas.core.indexes.base.Index"
      ]
     },
     "execution_count": 137,
     "metadata": {},
     "output_type": "execute_result"
    }
   ],
   "source": [
    "type(l)"
   ]
  },
  {
   "cell_type": "code",
   "execution_count": 138,
   "id": "69f4c6cd",
   "metadata": {},
   "outputs": [],
   "source": [
    "#l.to_list()"
   ]
  },
  {
   "cell_type": "code",
   "execution_count": 139,
   "id": "a8fea116",
   "metadata": {},
   "outputs": [
    {
     "data": {
      "text/plain": [
       "1    171842\n",
       "3     40717\n",
       "2     25700\n",
       "4     18616\n",
       "Name: race, dtype: int64"
      ]
     },
     "execution_count": 139,
     "metadata": {},
     "output_type": "execute_result"
    }
   ],
   "source": [
    "CPS_df.race.value_counts()"
   ]
  },
  {
   "cell_type": "code",
   "execution_count": 140,
   "id": "46be68a6",
   "metadata": {},
   "outputs": [
    {
     "data": {
      "text/plain": [
       "1    129155\n",
       "2    127720\n",
       "Name: sex, dtype: int64"
      ]
     },
     "execution_count": 140,
     "metadata": {},
     "output_type": "execute_result"
    }
   ],
   "source": [
    "CPS_df.sex.value_counts()"
   ]
  },
  {
   "cell_type": "code",
   "execution_count": 141,
   "id": "58e7706e",
   "metadata": {},
   "outputs": [
    {
     "data": {
      "text/plain": [
       "0.0    215898\n",
       "1.0     40717\n",
       "Name: hispan, dtype: int64"
      ]
     },
     "execution_count": 141,
     "metadata": {},
     "output_type": "execute_result"
    }
   ],
   "source": [
    "CPS_df.hispan.value_counts()"
   ]
  },
  {
   "cell_type": "code",
   "execution_count": 142,
   "id": "0792d9f2",
   "metadata": {},
   "outputs": [
    {
     "data": {
      "text/plain": [
       "<AxesSubplot: >"
      ]
     },
     "execution_count": 142,
     "metadata": {},
     "output_type": "execute_result"
    },
    {
     "data": {
      "image/png": "[encoded data removed]",
      "text/plain": [
       "<Figure size 640x480 with 1 Axes>"
      ]
     },
     "metadata": {},
     "output_type": "display_data"
    }
   ],
   "source": [
    "CPS_df.incwage.hist()"
   ]
  },
  {
   "cell_type": "code",
   "execution_count": 143,
   "id": "ad45ae59",
   "metadata": {},
   "outputs": [
    {
     "data": {
      "text/plain": [
       "count    2.568750e+05\n",
       "mean     4.657308e+04\n",
       "std      4.994656e+04\n",
       "min      2.500000e+01\n",
       "25%      2.180000e+04\n",
       "50%      3.599900e+04\n",
       "75%      5.640000e+04\n",
       "max      1.259999e+06\n",
       "Name: incwage, dtype: float64"
      ]
     },
     "execution_count": 143,
     "metadata": {},
     "output_type": "execute_result"
    }
   ],
   "source": [
    "CPS_df.incwage.describe()"
   ]
  },
  {
   "cell_type": "code",
   "execution_count": 144,
   "id": "4719da11",
   "metadata": {},
   "outputs": [],
   "source": [
    "# >564k high Income\n",
    "# Regression results for fairness"
   ]
  },
  {
   "cell_type": "code",
   "execution_count": 145,
   "id": "6ea01d9f",
   "metadata": {},
   "outputs": [
    {
     "data": {
      "text/plain": [
       "0    256875\n",
       "Name: income, dtype: int64"
      ]
     },
     "execution_count": 145,
     "metadata": {},
     "output_type": "execute_result"
    }
   ],
   "source": [
    "CPS_df[\"income\"] = 0\n",
    "CPS_df[\"income\"].value_counts()"
   ]
  },
  {
   "cell_type": "code",
   "execution_count": 146,
   "id": "07570265",
   "metadata": {},
   "outputs": [
    {
     "data": {
      "text/plain": [
       "0    192653\n",
       "1     64222\n",
       "Name: income, dtype: int64"
      ]
     },
     "execution_count": 146,
     "metadata": {},
     "output_type": "execute_result"
    }
   ],
   "source": [
    "CPS_df[\"income\"]  = CPS_df.incwage.apply(lambda x: 1 if x>= 56400 else 0)\n",
    "CPS_df[\"income\"].value_counts()"
   ]
  },
  {
   "cell_type": "code",
   "execution_count": 147,
   "id": "4390f580",
   "metadata": {},
   "outputs": [
    {
     "data": {
      "text/html": [
       "<div>\n",
       "<style scoped>\n",
       "    .dataframe tbody tr th:only-of-type {\n",
       "        vertical-align: middle;\n",
       "    }\n",
       "\n",
       "    .dataframe tbody tr th {\n",
       "        vertical-align: top;\n",
       "    }\n",
       "\n",
       "    .dataframe thead th {\n",
       "        text-align: right;\n",
       "    }\n",
       "</style>\n",
       "<table border=\"1\" class=\"dataframe\">\n",
       "  <thead>\n",
       "    <tr style=\"text-align: right;\">\n",
       "      <th></th>\n",
       "      <th>incwage</th>\n",
       "    </tr>\n",
       "    <tr>\n",
       "      <th>race</th>\n",
       "      <th></th>\n",
       "    </tr>\n",
       "  </thead>\n",
       "  <tbody>\n",
       "    <tr>\n",
       "      <th>1</th>\n",
       "      <td>50620.714831</td>\n",
       "    </tr>\n",
       "    <tr>\n",
       "      <th>2</th>\n",
       "      <td>38263.152335</td>\n",
       "    </tr>\n",
       "    <tr>\n",
       "      <th>3</th>\n",
       "      <td>33535.250239</td>\n",
       "    </tr>\n",
       "    <tr>\n",
       "      <th>4</th>\n",
       "      <td>49198.445370</td>\n",
       "    </tr>\n",
       "  </tbody>\n",
       "</table>\n",
       "</div>"
      ],
      "text/plain": [
       "           incwage\n",
       "race              \n",
       "1     50620.714831\n",
       "2     38263.152335\n",
       "3     33535.250239\n",
       "4     49198.445370"
      ]
     },
     "execution_count": 147,
     "metadata": {},
     "output_type": "execute_result"
    }
   ],
   "source": [
    "CPS_df.groupby('race')[['incwage']].mean()"
   ]
  },
  {
   "cell_type": "code",
   "execution_count": 148,
   "id": "54eb0ad8",
   "metadata": {},
   "outputs": [],
   "source": [
    "X = CPS_df[[\"race\", \"sex\"]]\n",
    "y = CPS_df[\"income\"]\n",
    "\n",
    "X_train, X_test, y_train, y_test = train_test_split(X, y, test_size=0.20, random_state=42)"
   ]
  },
  {
   "cell_type": "code",
   "execution_count": 149,
   "id": "3d8c3e4f",
   "metadata": {},
   "outputs": [
    {
     "data": {
      "text/plain": [
       "205500"
      ]
     },
     "execution_count": 149,
     "metadata": {},
     "output_type": "execute_result"
    }
   ],
   "source": [
    "len(X_train)"
   ]
  },
  {
   "cell_type": "code",
   "execution_count": 150,
   "id": "dd4b578a",
   "metadata": {},
   "outputs": [
    {
     "data": {
      "text/plain": [
       "51375"
      ]
     },
     "execution_count": 150,
     "metadata": {},
     "output_type": "execute_result"
    }
   ],
   "source": [
    "len(X_test)"
   ]
  },
  {
   "cell_type": "code",
   "execution_count": 151,
   "id": "a356f523",
   "metadata": {},
   "outputs": [],
   "source": [
    "clf = LogisticRegression(random_state=0).fit(X, y)"
   ]
  },
  {
   "cell_type": "code",
   "execution_count": 152,
   "id": "c62fe279",
   "metadata": {},
   "outputs": [],
   "source": [
    "#clf.predict(X_test[: , :])"
   ]
  },
  {
   "cell_type": "code",
   "execution_count": 153,
   "id": "d85d563a",
   "metadata": {},
   "outputs": [],
   "source": [
    "#clf.predict_proba(X[:2, :])"
   ]
  },
  {
   "cell_type": "code",
   "execution_count": 154,
   "id": "f0417fef",
   "metadata": {},
   "outputs": [],
   "source": [
    "#clf.score(X, y)"
   ]
  }
 ],
 "metadata": {
  "kernelspec": {
   "display_name": "Python 3 (ipykernel)",
   "language": "python",
   "name": "python3"
  },
  "language_info": {
   "codemirror_mode": {
    "name": "ipython",
    "version": 3
   },
   "file_extension": ".py",
   "mimetype": "text/x-python",
   "name": "python",
   "nbconvert_exporter": "python",
   "pygments_lexer": "ipython3",
   "version": "3.9.0"
  }
 },
 "nbformat": 4,
 "nbformat_minor": 5
}
